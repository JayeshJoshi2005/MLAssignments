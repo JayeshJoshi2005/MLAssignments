{
 "cells": [
  {
   "cell_type": "code",
   "execution_count": 1,
   "id": "3a2ac780",
   "metadata": {},
   "outputs": [
    {
     "name": "stdout",
     "output_type": "stream",
     "text": [
      "Saved titanic.csv | Shape: (891, 15)\n"
     ]
    },
    {
     "data": {
      "text/html": [
       "<div>\n",
       "<style scoped>\n",
       "    .dataframe tbody tr th:only-of-type {\n",
       "        vertical-align: middle;\n",
       "    }\n",
       "\n",
       "    .dataframe tbody tr th {\n",
       "        vertical-align: top;\n",
       "    }\n",
       "\n",
       "    .dataframe thead th {\n",
       "        text-align: right;\n",
       "    }\n",
       "</style>\n",
       "<table border=\"1\" class=\"dataframe\">\n",
       "  <thead>\n",
       "    <tr style=\"text-align: right;\">\n",
       "      <th></th>\n",
       "      <th>survived</th>\n",
       "      <th>pclass</th>\n",
       "      <th>sex</th>\n",
       "      <th>age</th>\n",
       "      <th>sibsp</th>\n",
       "      <th>parch</th>\n",
       "      <th>fare</th>\n",
       "      <th>embarked</th>\n",
       "      <th>class</th>\n",
       "      <th>who</th>\n",
       "      <th>adult_male</th>\n",
       "      <th>deck</th>\n",
       "      <th>embark_town</th>\n",
       "      <th>alive</th>\n",
       "      <th>alone</th>\n",
       "    </tr>\n",
       "  </thead>\n",
       "  <tbody>\n",
       "    <tr>\n",
       "      <th>0</th>\n",
       "      <td>0</td>\n",
       "      <td>3</td>\n",
       "      <td>male</td>\n",
       "      <td>22.0</td>\n",
       "      <td>1</td>\n",
       "      <td>0</td>\n",
       "      <td>7.2500</td>\n",
       "      <td>S</td>\n",
       "      <td>Third</td>\n",
       "      <td>man</td>\n",
       "      <td>True</td>\n",
       "      <td>NaN</td>\n",
       "      <td>Southampton</td>\n",
       "      <td>no</td>\n",
       "      <td>False</td>\n",
       "    </tr>\n",
       "    <tr>\n",
       "      <th>1</th>\n",
       "      <td>1</td>\n",
       "      <td>1</td>\n",
       "      <td>female</td>\n",
       "      <td>38.0</td>\n",
       "      <td>1</td>\n",
       "      <td>0</td>\n",
       "      <td>71.2833</td>\n",
       "      <td>C</td>\n",
       "      <td>First</td>\n",
       "      <td>woman</td>\n",
       "      <td>False</td>\n",
       "      <td>C</td>\n",
       "      <td>Cherbourg</td>\n",
       "      <td>yes</td>\n",
       "      <td>False</td>\n",
       "    </tr>\n",
       "    <tr>\n",
       "      <th>2</th>\n",
       "      <td>1</td>\n",
       "      <td>3</td>\n",
       "      <td>female</td>\n",
       "      <td>26.0</td>\n",
       "      <td>0</td>\n",
       "      <td>0</td>\n",
       "      <td>7.9250</td>\n",
       "      <td>S</td>\n",
       "      <td>Third</td>\n",
       "      <td>woman</td>\n",
       "      <td>False</td>\n",
       "      <td>NaN</td>\n",
       "      <td>Southampton</td>\n",
       "      <td>yes</td>\n",
       "      <td>True</td>\n",
       "    </tr>\n",
       "    <tr>\n",
       "      <th>3</th>\n",
       "      <td>1</td>\n",
       "      <td>1</td>\n",
       "      <td>female</td>\n",
       "      <td>35.0</td>\n",
       "      <td>1</td>\n",
       "      <td>0</td>\n",
       "      <td>53.1000</td>\n",
       "      <td>S</td>\n",
       "      <td>First</td>\n",
       "      <td>woman</td>\n",
       "      <td>False</td>\n",
       "      <td>C</td>\n",
       "      <td>Southampton</td>\n",
       "      <td>yes</td>\n",
       "      <td>False</td>\n",
       "    </tr>\n",
       "    <tr>\n",
       "      <th>4</th>\n",
       "      <td>0</td>\n",
       "      <td>3</td>\n",
       "      <td>male</td>\n",
       "      <td>35.0</td>\n",
       "      <td>0</td>\n",
       "      <td>0</td>\n",
       "      <td>8.0500</td>\n",
       "      <td>S</td>\n",
       "      <td>Third</td>\n",
       "      <td>man</td>\n",
       "      <td>True</td>\n",
       "      <td>NaN</td>\n",
       "      <td>Southampton</td>\n",
       "      <td>no</td>\n",
       "      <td>True</td>\n",
       "    </tr>\n",
       "  </tbody>\n",
       "</table>\n",
       "</div>"
      ],
      "text/plain": [
       "   survived  pclass     sex   age  sibsp  parch     fare embarked  class  \\\n",
       "0         0       3    male  22.0      1      0   7.2500        S  Third   \n",
       "1         1       1  female  38.0      1      0  71.2833        C  First   \n",
       "2         1       3  female  26.0      0      0   7.9250        S  Third   \n",
       "3         1       1  female  35.0      1      0  53.1000        S  First   \n",
       "4         0       3    male  35.0      0      0   8.0500        S  Third   \n",
       "\n",
       "     who  adult_male deck  embark_town alive  alone  \n",
       "0    man        True  NaN  Southampton    no  False  \n",
       "1  woman       False    C    Cherbourg   yes  False  \n",
       "2  woman       False  NaN  Southampton   yes   True  \n",
       "3  woman       False    C  Southampton   yes  False  \n",
       "4    man        True  NaN  Southampton    no   True  "
      ]
     },
     "execution_count": 1,
     "metadata": {},
     "output_type": "execute_result"
    }
   ],
   "source": [
    "\n",
    "import pandas as pd\n",
    "import numpy as np\n",
    "import matplotlib.pyplot as plt\n",
    "from sklearn.model_selection import train_test_split, StratifiedShuffleSplit\n",
    "\n",
    "# Load Titanic dataset\n",
    "df = pd.read_csv('../Data/titanic.csv')\n",
    "print(\"Saved titanic.csv | Shape:\", df.shape)\n",
    "df.head()\n",
    "\n"
   ]
  },
  {
   "cell_type": "markdown",
   "id": "1892a7cb",
   "metadata": {},
   "source": [
    "## 📊 Distribution Shapes"
   ]
  },
  {
   "cell_type": "code",
   "execution_count": 2,
   "id": "95094bb1",
   "metadata": {},
   "outputs": [
    {
     "data": {
      "image/png": "[encoded data removed]",
      "text/plain": [
       "<Figure size 1200x400 with 2 Axes>"
      ]
     },
     "metadata": {},
     "output_type": "display_data"
    }
   ],
   "source": [
    "\n",
    "# Age & Fare histograms\n",
    "fig, ax = plt.subplots(1,2, figsize=(12,4))\n",
    "df['age'].dropna().hist(bins=30, ax=ax[0])\n",
    "ax[0].set_title(\"Age Distribution\")\n",
    "df['fare'].dropna().hist(bins=30, ax=ax[1])\n",
    "ax[1].set_title(\"Fare Distribution\")\n",
    "plt.show()\n"
   ]
  },
  {
   "cell_type": "code",
   "execution_count": 3,
   "id": "8e260000",
   "metadata": {},
   "outputs": [
    {
     "name": "stdout",
     "output_type": "stream",
     "text": [
      "Age skewness: 0.38910778230082704 kurtosis: 0.17827415364210353\n",
      "Fare skewness: 4.787316519674893 kurtosis: 33.39814088089868\n"
     ]
    }
   ],
   "source": [
    "\n",
    "print(\"Age skewness:\", df['age'].skew(), \"kurtosis:\", df['age'].kurtosis())\n",
    "print(\"Fare skewness:\", df['fare'].skew(), \"kurtosis:\", df['fare'].kurtosis())\n"
   ]
  },
  {
   "cell_type": "markdown",
   "id": "14e40c83",
   "metadata": {},
   "source": [
    "## 🎲 Sampling Methods"
   ]
  },
  {
   "cell_type": "code",
   "execution_count": 4,
   "id": "09e69987",
   "metadata": {},
   "outputs": [
    {
     "name": "stdout",
     "output_type": "stream",
     "text": [
      "Random sample:\n",
      "       age     fare  pclass\n",
      "709   NaN  15.2458       3\n",
      "439  31.0  10.5000       2\n",
      "840  20.0   7.9250       3\n",
      "720   6.0  33.0000       2\n",
      "39   14.0  11.2417       3\n",
      "290  26.0  78.8500       1\n",
      "300   NaN   7.7500       3\n",
      "333  16.0  18.0000       3\n",
      "208  16.0   7.7500       3\n",
      "136  19.0  26.2833       1\n",
      "Stratified Pclass distribution (train):\n",
      " pclass\n",
      "3    0.550562\n",
      "1    0.242978\n",
      "2    0.206461\n",
      "Name: proportion, dtype: float64\n",
      "Stratified Pclass distribution (test):\n",
      " pclass\n",
      "3    0.553073\n",
      "1    0.240223\n",
      "2    0.206704\n",
      "Name: proportion, dtype: float64\n"
     ]
    }
   ],
   "source": [
    "\n",
    "# Random sampling\n",
    "sample_random = df.sample(10, random_state=42)\n",
    "print(\"Random sample:\\n\", sample_random[['age','fare','pclass']])\n",
    "\n",
    "# Stratified sampling by Pclass\n",
    "sss = StratifiedShuffleSplit(n_splits=1, test_size=0.2, random_state=42)\n",
    "for train_idx, test_idx in sss.split(df, df['pclass']):\n",
    "    strat_train = df.iloc[train_idx]\n",
    "    strat_test = df.iloc[test_idx]\n",
    "print(\"Stratified Pclass distribution (train):\\n\", strat_train['pclass'].value_counts(normalize=True))\n",
    "print(\"Stratified Pclass distribution (test):\\n\", strat_test['pclass'].value_counts(normalize=True))\n"
   ]
  },
  {
   "cell_type": "markdown",
   "id": "4fc47994",
   "metadata": {},
   "source": [
    "## 🔄 Bootstrap Sampling"
   ]
  },
  {
   "cell_type": "code",
   "execution_count": 5,
   "id": "355ccc70",
   "metadata": {},
   "outputs": [
    {
     "data": {
      "image/png": "[encoded data removed]",
      "text/plain": [
       "<Figure size 640x480 with 1 Axes>"
      ]
     },
     "metadata": {},
     "output_type": "display_data"
    },
    {
     "name": "stdout",
     "output_type": "stream",
     "text": [
      "Bootstrap mean CI (95%): [28.75392054 35.58298613]\n"
     ]
    }
   ],
   "source": [
    "\n",
    "# Bootstrap estimate of mean Fare\n",
    "n_boot = 1000\n",
    "means = [df['fare'].dropna().sample(frac=1, replace=True).mean() for _ in range(n_boot)]\n",
    "\n",
    "plt.hist(means, bins=30)\n",
    "plt.title(\"Bootstrap distribution of Fare mean\")\n",
    "plt.xlabel(\"Mean Fare\")\n",
    "plt.ylabel(\"Frequency\")\n",
    "plt.show()\n",
    "\n",
    "print(\"Bootstrap mean CI (95%):\", np.percentile(means,[2.5,97.5]))\n"
   ]
  },
  {
   "cell_type": "markdown",
   "id": "be0c5986",
   "metadata": {},
   "source": [
    "\n",
    "## 💬 Discussion (10 min)\n",
    "- What bias occurs if **3rd class** is underrepresented in train data?\n",
    "- How would this affect survival prediction?\n",
    "- Can stratification or re-weighting help?\n"
   ]
  },
  {
   "cell_type": "markdown",
   "id": "e50d46c0",
   "metadata": {},
   "source": [
    "### Bias if 3rd class is underrepresented:\n",
    "If there aren’t enough 3rd class passengers in training, the model won’t really “learn their story.” It ends up biased toward the patterns of 1st and 2nd class.\n",
    "\n",
    "### Effect on survival prediction:\n",
    "As a result, predictions for 3rd class become unreliable. The model might guess their survival chances too high or too low, missing the real picture.\n",
    "\n",
    "### Can stratification or re-weighting help?\n",
    "Yes, stratification makes sure every class is fairly included in training and testing. Re-weighting or resampling gives underrepresented groups a stronger voice in the model."
   ]
  },
  {
   "cell_type": "markdown",
   "id": "c020bf5b",
   "metadata": {},
   "source": [
    "\n",
    "## 🏠 Homework (5 min)\n",
    "Write a **sampling plan** for Titanic evaluation:\n",
    "- Specify which variable(s) you stratify by (e.g., `pclass`, `sex`).\n",
    "- Decide train/test proportions (e.g., 80/20).\n",
    "- State how you will check for representativeness.\n",
    "- Document trade-offs between fairness & performance.\n"
   ]
  },
  {
   "cell_type": "markdown",
   "id": "ea38fbbd",
   "metadata": {},
   "source": [
    "## 🏠 Sampling Plan for Titanic\n",
    "\n",
    "**1) What to stratify by**  \n",
    "I will stratify by both **Pclass** (1st, 2nd, 3rd) and **Sex** (male/female).  \n",
    "These two features matter a lot for survival, so each group should be fairly represented.  \n",
    "\n",
    "**2) Train/test split**  \n",
    "I’ll use **80% of the data for training** and **20% for testing**,  \n",
    "with a fixed random seed so results are reproducible.  \n",
    "\n",
    "**3) How to check representativeness**  \n",
    "After splitting, I’ll check if the proportions of each group (like 3rd class females)  \n",
    "are similar in train and test. If they look close, the split is fair.  \n",
    "\n",
    "**4) Trade-offs**  \n",
    "Stratifying makes evaluation more **fair** across groups, especially smaller ones.  \n",
    "The trade-off is that balancing can slightly reduce raw accuracy,  \n",
    "but predictions will be **more reliable and balanced** across passengers.  \n",
    "\n",
    "---"
   ]
  }
 ],
 "metadata": {
  "colab": {
   "name": "Lecture9_Distributions_Sampling_Bias_Colab.ipynb"
  },
  "kernelspec": {
   "display_name": "base",
   "language": "python",
   "name": "python3"
  },
  "language_info": {
   "codemirror_mode": {
    "name": "ipython",
    "version": 3
   },
   "file_extension": ".py",
   "mimetype": "text/x-python",
   "name": "python",
   "nbconvert_exporter": "python",
   "pygments_lexer": "ipython3",
   "version": "3.12.4"
  }
 },
 "nbformat": 4,
 "nbformat_minor": 5
}
